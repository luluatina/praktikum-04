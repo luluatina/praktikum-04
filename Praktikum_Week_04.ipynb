{
  "nbformat": 4,
  "nbformat_minor": 0,
  "metadata": {
    "colab": {
      "provenance": [],
      "authorship_tag": "ABX9TyNtYWDeKm6Y+IRhZVixvjpK",
      "include_colab_link": true
    },
    "kernelspec": {
      "name": "python3",
      "display_name": "Python 3"
    },
    "language_info": {
      "name": "python"
    }
  },
  "cells": [
    {
      "cell_type": "markdown",
      "metadata": {
        "id": "view-in-github",
        "colab_type": "text"
      },
      "source": [
        "<a href=\"https://colab.research.google.com/github/luluatina/praktikum-04/blob/main/Praktikum_Week_04.ipynb\" target=\"_parent\"><img src=\"https://colab.research.google.com/assets/colab-badge.svg\" alt=\"Open In Colab\"/></a>"
      ]
    },
    {
      "cell_type": "code",
      "execution_count": null,
      "metadata": {
        "colab": {
          "base_uri": "https://localhost:8080/"
        },
        "id": "n9DjEw3CTsdI",
        "outputId": "da6419b7-edab-4649-82b8-a2f3f33c5205"
      },
      "outputs": [
        {
          "output_type": "stream",
          "name": "stdout",
          "text": [
            "Masukkan  umur Anda: 18\n",
            "Boleh Membuat SIM\n"
          ]
        }
      ],
      "source": [
        "#Program untuk menentukan apakah seseorang boleh membuat SIM atau tidak\n",
        "\n",
        "#input umur\n",
        "umur = int(input(\"Masukkan  umur Anda: \"))\n",
        "\n",
        "#cek apakah umur >= 17\n",
        "if umur >= 17:\n",
        "      print(\"Boleh Membuat SIM\")\n",
        "else:\n",
        "      print(\"Tidak Boleh Membuat SIM\")\n",
        "\n",
        "\n"
      ]
    },
    {
      "cell_type": "code",
      "source": [
        "#Program untuk menentukan apakah seseorang boleh membuat SIM atau tidak\n",
        "\n",
        "#input umur\n",
        "umur = int(input(\"Masukkan  umur Anda: \"))\n",
        "\n",
        "#cek apakah umur >= 17\n",
        "if umur >= 17:\n",
        "      print(\"Boleh Membuat SIM\")\n",
        "else:\n",
        "      print(\"Tidak Boleh Membuat SIM\")"
      ],
      "metadata": {
        "colab": {
          "base_uri": "https://localhost:8080/"
        },
        "id": "DFLzW6WhXQ5h",
        "outputId": "913df978-6b98-481e-9e13-ef0aeb63b519"
      },
      "execution_count": null,
      "outputs": [
        {
          "output_type": "stream",
          "name": "stdout",
          "text": [
            "Masukkan  umur Anda: 16\n",
            "Tidak Boleh Membuat SIM\n"
          ]
        }
      ]
    },
    {
      "cell_type": "code",
      "source": [
        "#Program untuk menentukan grade berdasarkan nilai\n",
        "\n",
        "#input nilai\n",
        "nilai = int(input(\"Masukkan Nilai Anda: \"))\n",
        "\n",
        "#menentukan grade berdasarkan nilai\n",
        "if nilai >= 90:\n",
        "  grade = \"A\"\n",
        "elif nilai >= 80:\n",
        "  grade = \"B=\"\n",
        "elif nilai >= 70:\n",
        "  grade = \"B\"\n",
        "elif nilai >= 60:\n",
        "  grade = \"C+\"\n",
        "elif nilai >= 50:\n",
        "  grade = \"C\"\n",
        "elif nilai >= 40:\n",
        "  grade = \"D\"\n",
        "else:\n",
        "  grade = \"E\"\n",
        "\n",
        "#menampilkan grade\n",
        "print(\"Grade Anda adalah:\", grade)\n"
      ],
      "metadata": {
        "colab": {
          "base_uri": "https://localhost:8080/"
        },
        "id": "eELeVLG9cd95",
        "outputId": "0b77f926-c46f-455b-9ece-cf794459ae14"
      },
      "execution_count": null,
      "outputs": [
        {
          "output_type": "stream",
          "name": "stdout",
          "text": [
            "Masukkan Nilai Anda: 95\n",
            "Grade Anda adalah: A\n"
          ]
        }
      ]
    },
    {
      "cell_type": "code",
      "source": [
        "#Program untuk menentukan grade berdasarkan nilai\n",
        "\n",
        "#input nilai\n",
        "nilai = float(input(\"Masukkan Nilai Anda: \"))\n",
        "\n",
        "#menentukan grade berdasarkan nilai\n",
        "if nilai >= 80.00:\n",
        "  grade = \"A\"\n",
        "elif nilai >= 77.50:\n",
        "  grade = \"A-\"\n",
        "elif nilai >= 75.00:\n",
        "  grade = \"A/B\"\n",
        "elif nilai >= 72.50:\n",
        "  grade = \"B+\"\n",
        "elif nilai >= 70.00:\n",
        "  grade = \"B\"\n",
        "elif nilai >= 67.50:\n",
        "  grade = \"B-\"\n",
        "elif nilai >= 65.00:\n",
        "  grade = \"B/C\"\n",
        "elif nilai >= 62.50:\n",
        "  grade = \"C+\"\n",
        "elif nilai >= 60.00:\n",
        "  grade = \"C\"\n",
        "elif nilai >= 55.00:\n",
        "  grade = \"C-\"\n",
        "elif nilai >= 50.00:\n",
        "  grade = \"C/D\"\n",
        "elif nilai >= 45.00:\n",
        "  grade = \"D+\"\n",
        "elif nilai >= 40.00:\n",
        "  grade = \"D\"\n",
        "else:\n",
        "  grade = \"E\"\n",
        "\n",
        "#menampilkan grade\n",
        "print(\"Grade Anda adalah:\", grade)\n"
      ],
      "metadata": {
        "colab": {
          "base_uri": "https://localhost:8080/"
        },
        "id": "QRkKYp3-f4d-",
        "outputId": "d6a15d38-f430-4506-84c1-aec205e5e254"
      },
      "execution_count": 2,
      "outputs": [
        {
          "output_type": "stream",
          "name": "stdout",
          "text": [
            "Masukkan Nilai Anda: 76.80\n",
            "Grade Anda adalah: A/B\n"
          ]
        }
      ]
    },
    {
      "cell_type": "code",
      "source": [],
      "metadata": {
        "id": "7Qvcc_jIlLtz"
      },
      "execution_count": null,
      "outputs": []
    }
  ]
}